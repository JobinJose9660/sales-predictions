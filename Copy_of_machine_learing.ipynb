{
  "nbformat": 4,
  "nbformat_minor": 0,
  "metadata": {
    "colab": {
      "name": "Copy of machine learing",
      "provenance": [],
      "include_colab_link": true
    },
    "kernelspec": {
      "name": "python3",
      "display_name": "Python 3"
    },
    "language_info": {
      "name": "python"
    }
  },
  "cells": [
    {
      "cell_type": "markdown",
      "metadata": {
        "id": "view-in-github",
        "colab_type": "text"
      },
      "source": [
        "<a href=\"https://colab.research.google.com/github/JobinJose9660/sales-predictions/blob/main/Copy_of_machine_learing.ipynb\" target=\"_parent\"><img src=\"https://colab.research.google.com/assets/colab-badge.svg\" alt=\"Open In Colab\"/></a>"
      ]
    },
    {
      "cell_type": "code",
      "metadata": {
        "id": "ksIvyluB_AZc"
      },
      "source": [
        "import pandas as pd\n",
        "import numpy as np\n",
        "from sklearn.model_selection import train_test_split\n",
        "from sklearn.compose import make_column_selector,make_column_transformer\n",
        "from sklearn.linear_model import LinearRegression\n",
        "from sklearn.preprocessing import OneHotEncoder,StandardScaler\n",
        "from sklearn.impute import SimpleImputer\n",
        "from sklearn.pipeline import make_pipeline\n",
        "import matplotlib.pyplot as plt\n",
        "import seaborn as sns\n",
        "from sklearn.neighbors import KNeighborsRegressor\n",
        "from sklearn.dummy import DummyRegressor\n",
        "from sklearn.metrics import mean_squared_error, mean_absolute_error, r2_score\n"
      ],
      "execution_count": 43,
      "outputs": []
    },
    {
      "cell_type": "code",
      "metadata": {
        "id": "mB_xX4le_Gub"
      },
      "source": [
        "filename  = '//content/sales_predictions(5).csv'\n",
        "sales  = pd.read_csv(filename)"
      ],
      "execution_count": 2,
      "outputs": []
    },
    {
      "cell_type": "code",
      "metadata": {
        "colab": {
          "base_uri": "https://localhost:8080/",
          "height": 313
        },
        "id": "kotOfg7KAB86",
        "outputId": "2ea45ebc-bf93-4ea3-a396-4efef576a8fd"
      },
      "source": [
        "sales.head()"
      ],
      "execution_count": 3,
      "outputs": [
        {
          "output_type": "execute_result",
          "data": {
            "text/html": [
              "<div>\n",
              "<style scoped>\n",
              "    .dataframe tbody tr th:only-of-type {\n",
              "        vertical-align: middle;\n",
              "    }\n",
              "\n",
              "    .dataframe tbody tr th {\n",
              "        vertical-align: top;\n",
              "    }\n",
              "\n",
              "    .dataframe thead th {\n",
              "        text-align: right;\n",
              "    }\n",
              "</style>\n",
              "<table border=\"1\" class=\"dataframe\">\n",
              "  <thead>\n",
              "    <tr style=\"text-align: right;\">\n",
              "      <th></th>\n",
              "      <th>Item_Identifier</th>\n",
              "      <th>Item_Weight</th>\n",
              "      <th>Item_Fat_Content</th>\n",
              "      <th>Item_Visibility</th>\n",
              "      <th>Item_Type</th>\n",
              "      <th>Item_MRP</th>\n",
              "      <th>Outlet_Identifier</th>\n",
              "      <th>Outlet_Establishment_Year</th>\n",
              "      <th>Outlet_Size</th>\n",
              "      <th>Outlet_Location_Type</th>\n",
              "      <th>Outlet_Type</th>\n",
              "      <th>Item_Outlet_Sales</th>\n",
              "    </tr>\n",
              "  </thead>\n",
              "  <tbody>\n",
              "    <tr>\n",
              "      <th>0</th>\n",
              "      <td>FDA15</td>\n",
              "      <td>9.30</td>\n",
              "      <td>Low Fat</td>\n",
              "      <td>0.016047</td>\n",
              "      <td>Dairy</td>\n",
              "      <td>249.8092</td>\n",
              "      <td>OUT049</td>\n",
              "      <td>1999</td>\n",
              "      <td>Medium</td>\n",
              "      <td>Tier 1</td>\n",
              "      <td>Supermarket Type1</td>\n",
              "      <td>3735.1380</td>\n",
              "    </tr>\n",
              "    <tr>\n",
              "      <th>1</th>\n",
              "      <td>DRC01</td>\n",
              "      <td>5.92</td>\n",
              "      <td>Regular</td>\n",
              "      <td>0.019278</td>\n",
              "      <td>Soft Drinks</td>\n",
              "      <td>48.2692</td>\n",
              "      <td>OUT018</td>\n",
              "      <td>2009</td>\n",
              "      <td>Medium</td>\n",
              "      <td>Tier 3</td>\n",
              "      <td>Supermarket Type2</td>\n",
              "      <td>443.4228</td>\n",
              "    </tr>\n",
              "    <tr>\n",
              "      <th>2</th>\n",
              "      <td>FDN15</td>\n",
              "      <td>17.50</td>\n",
              "      <td>Low Fat</td>\n",
              "      <td>0.016760</td>\n",
              "      <td>Meat</td>\n",
              "      <td>141.6180</td>\n",
              "      <td>OUT049</td>\n",
              "      <td>1999</td>\n",
              "      <td>Medium</td>\n",
              "      <td>Tier 1</td>\n",
              "      <td>Supermarket Type1</td>\n",
              "      <td>2097.2700</td>\n",
              "    </tr>\n",
              "    <tr>\n",
              "      <th>3</th>\n",
              "      <td>FDX07</td>\n",
              "      <td>19.20</td>\n",
              "      <td>Regular</td>\n",
              "      <td>0.000000</td>\n",
              "      <td>Fruits and Vegetables</td>\n",
              "      <td>182.0950</td>\n",
              "      <td>OUT010</td>\n",
              "      <td>1998</td>\n",
              "      <td>NaN</td>\n",
              "      <td>Tier 3</td>\n",
              "      <td>Grocery Store</td>\n",
              "      <td>732.3800</td>\n",
              "    </tr>\n",
              "    <tr>\n",
              "      <th>4</th>\n",
              "      <td>NCD19</td>\n",
              "      <td>8.93</td>\n",
              "      <td>Low Fat</td>\n",
              "      <td>0.000000</td>\n",
              "      <td>Household</td>\n",
              "      <td>53.8614</td>\n",
              "      <td>OUT013</td>\n",
              "      <td>1987</td>\n",
              "      <td>High</td>\n",
              "      <td>Tier 3</td>\n",
              "      <td>Supermarket Type1</td>\n",
              "      <td>994.7052</td>\n",
              "    </tr>\n",
              "  </tbody>\n",
              "</table>\n",
              "</div>"
            ],
            "text/plain": [
              "  Item_Identifier  Item_Weight  ...        Outlet_Type  Item_Outlet_Sales\n",
              "0           FDA15         9.30  ...  Supermarket Type1          3735.1380\n",
              "1           DRC01         5.92  ...  Supermarket Type2           443.4228\n",
              "2           FDN15        17.50  ...  Supermarket Type1          2097.2700\n",
              "3           FDX07        19.20  ...      Grocery Store           732.3800\n",
              "4           NCD19         8.93  ...  Supermarket Type1           994.7052\n",
              "\n",
              "[5 rows x 12 columns]"
            ]
          },
          "metadata": {},
          "execution_count": 3
        }
      ]
    },
    {
      "cell_type": "code",
      "metadata": {
        "colab": {
          "base_uri": "https://localhost:8080/"
        },
        "id": "vnTdh_cIyTJg",
        "outputId": "90d07aa5-8585-48ae-c3a0-953d07050b40"
      },
      "source": [
        "sales.info()"
      ],
      "execution_count": 37,
      "outputs": [
        {
          "output_type": "stream",
          "name": "stdout",
          "text": [
            "<class 'pandas.core.frame.DataFrame'>\n",
            "RangeIndex: 8523 entries, 0 to 8522\n",
            "Data columns (total 12 columns):\n",
            " #   Column                     Non-Null Count  Dtype  \n",
            "---  ------                     --------------  -----  \n",
            " 0   Item_Identifier            8523 non-null   object \n",
            " 1   Item_Weight                7060 non-null   float64\n",
            " 2   Item_Fat_Content           8523 non-null   object \n",
            " 3   Item_Visibility            8523 non-null   float64\n",
            " 4   Item_Type                  8523 non-null   object \n",
            " 5   Item_MRP                   8523 non-null   float64\n",
            " 6   Outlet_Identifier          8523 non-null   object \n",
            " 7   Outlet_Establishment_Year  8523 non-null   int64  \n",
            " 8   Outlet_Size                6113 non-null   object \n",
            " 9   Outlet_Location_Type       8523 non-null   object \n",
            " 10  Outlet_Type                8523 non-null   object \n",
            " 11  Item_Outlet_Sales          8523 non-null   float64\n",
            "dtypes: float64(4), int64(1), object(7)\n",
            "memory usage: 799.2+ KB\n"
          ]
        }
      ]
    },
    {
      "cell_type": "markdown",
      "metadata": {
        "id": "YYiDkmq7yGgj"
      },
      "source": [
        "Checking Inconsistencies, Spelling errors"
      ]
    },
    {
      "cell_type": "code",
      "metadata": {
        "colab": {
          "base_uri": "https://localhost:8080/"
        },
        "id": "MK0E9rvL_MDa",
        "outputId": "879e3e01-6f8c-41ec-85c4-a2970b4544a3"
      },
      "source": [
        "sales['Item_Fat_Content'].value_counts()"
      ],
      "execution_count": 4,
      "outputs": [
        {
          "output_type": "execute_result",
          "data": {
            "text/plain": [
              "Low Fat    5089\n",
              "Regular    2889\n",
              "LF          316\n",
              "reg         117\n",
              "low fat     112\n",
              "Name: Item_Fat_Content, dtype: int64"
            ]
          },
          "metadata": {},
          "execution_count": 4
        }
      ]
    },
    {
      "cell_type": "code",
      "metadata": {
        "id": "tdEnxRLp_P-5"
      },
      "source": [
        "sales.loc[sales['Item_Fat_Content'] == 'LF', 'Item_Fat_Content'] = 'Low Fat'\n",
        "\n",
        "sales.loc[sales['Item_Fat_Content'] == 'reg', 'Item_Fat_Content'] = 'Regular'\n",
        "\n",
        "sales.loc[sales['Item_Fat_Content'] == 'low fat', 'Item_Fat_Content'] = 'Low Fat'\n",
        "\n",
        "sales.loc[sales['Item_Fat_Content'] == 'LF', 'Item_Fat_Content'] = 'Low Fat'\n",
        "\n",
        "sales.loc[sales['Item_Fat_Content'] == 'reg', 'Item_Fat_Content'] = 'Regular'\n",
        "\n",
        "sales.loc[sales['Item_Fat_Content'] == 'low fat', 'Item_Fat_Content'] = 'Low Fat'"
      ],
      "execution_count": 5,
      "outputs": []
    },
    {
      "cell_type": "markdown",
      "metadata": {
        "id": "fEhHq2Yy10gm"
      },
      "source": [
        ""
      ]
    },
    {
      "cell_type": "markdown",
      "metadata": {
        "id": "YvAQP8Sj2mil"
      },
      "source": [
        "Analysing how features are related to Outletsales"
      ]
    },
    {
      "cell_type": "code",
      "metadata": {
        "colab": {
          "base_uri": "https://localhost:8080/",
          "height": 307
        },
        "id": "PIJz1YpcmUTC",
        "outputId": "c9e42468-9923-4131-fdf8-05c69dae53f8"
      },
      "source": [
        "sales['Item_Outlet_Sales'].hist()\n",
        "plt.xticks(rotation = 45)\n",
        "plt.xlabel('sales')\n",
        "plt.ylabel('count')\n",
        "plt.ticklabel_format(useOffset=False, style='plain')\n",
        "plt.savefig('fig3.png', dpi = 300)"
      ],
      "execution_count": 123,
      "outputs": [
        {
          "output_type": "display_data",
          "data": {
            "image/png": "[encoded data removed]",
            "text/plain": [
              "<Figure size 432x288 with 1 Axes>"
            ]
          },
          "metadata": {}
        }
      ]
    },
    {
      "cell_type": "code",
      "metadata": {
        "colab": {
          "base_uri": "https://localhost:8080/",
          "height": 285
        },
        "id": "yRjwnejrtBY1",
        "outputId": "f38a57b0-ddb7-4aee-9c20-1c1fa7ee22c6"
      },
      "source": [
        "#Stastical summary of Item_Outlet_Sales\n",
        "sales.boxplot(column ='Item_Outlet_Sales')\n",
        "plt.title('Distribution of Item Sales')\n",
        "plt.savefig('fig4.png', dpi = 300)\n",
        "plt.show()"
      ],
      "execution_count": 126,
      "outputs": [
        {
          "output_type": "display_data",
          "data": {
            "image/png": "[encoded data removed]",
            "text/plain": [
              "<Figure size 432x288 with 1 Axes>"
            ]
          },
          "metadata": {}
        }
      ]
    },
    {
      "cell_type": "code",
      "metadata": {
        "colab": {
          "base_uri": "https://localhost:8080/",
          "height": 409
        },
        "id": "muNs0JUT12Ne",
        "outputId": "70100e60-da76-42be-97a8-2d287cb9dd58"
      },
      "source": [
        " corr = sales.corr()\n",
        " sns.heatmap(corr,cmap='Greens',annot=True)\n",
        " plt.savefig('fig2.png', dpi = 300)"
      ],
      "execution_count": 121,
      "outputs": [
        {
          "output_type": "display_data",
          "data": {
            "image/png": "[encoded data removed]",
            "text/plain": [
              "<Figure size 432x288 with 2 Axes>"
            ]
          },
          "metadata": {}
        }
      ]
    },
    {
      "cell_type": "code",
      "metadata": {
        "id": "_R9hKItLqUV8"
      },
      "source": [
        "from google.colab import drive\n",
        "drive.mount('/content/drive')"
      ],
      "execution_count": null,
      "outputs": []
    },
    {
      "cell_type": "code",
      "metadata": {
        "colab": {
          "base_uri": "https://localhost:8080/",
          "height": 304
        },
        "id": "iXmtSosijobP",
        "outputId": "8737ae21-537e-468b-bd20-91379fd9eb82"
      },
      "source": [
        "sns.scatterplot(x='Item_MRP', y = 'Item_Outlet_Sales', data = sales)\n",
        "plt.figure(figsize=(10,8))\n",
        "plt.savefig('fig5.png', dpi = 300)\n",
        "plt.show()"
      ],
      "execution_count": 128,
      "outputs": [
        {
          "output_type": "display_data",
          "data": {
            "image/png": "[encoded data removed]",
            "text/plain": [
              "<Figure size 432x288 with 1 Axes>"
            ]
          },
          "metadata": {}
        },
        {
          "output_type": "display_data",
          "data": {
            "text/plain": [
              "<Figure size 720x576 with 0 Axes>"
            ]
          },
          "metadata": {}
        }
      ]
    },
    {
      "cell_type": "code",
      "metadata": {
        "colab": {
          "base_uri": "https://localhost:8080/",
          "height": 374
        },
        "id": "NV7f-T7Mh-ax",
        "outputId": "20b970ae-5400-4970-e831-b12c2e5d56b7"
      },
      "source": [
        "plt.bar(sales['Outlet_Type'], sales['Item_Outlet_Sales'])\n",
        "plt.xlabel('Price of Items')\n",
        "plt.ylabel('Sales')\n",
        "plt.title('Analysis of Outlet sales over Price')\n",
        "plt.xticks(rotation = 45)\n",
        "plt.grid()\n",
        "plt.show()"
      ],
      "execution_count": 138,
      "outputs": [
        {
          "output_type": "display_data",
          "data": {
            "image/png": "[encoded data removed]",
            "text/plain": [
              "<Figure size 432x288 with 1 Axes>"
            ]
          },
          "metadata": {}
        }
      ]
    },
    {
      "cell_type": "markdown",
      "metadata": {
        "id": "NdEH3ZPVyYcx"
      },
      "source": [
        "Splitting the Data"
      ]
    },
    {
      "cell_type": "code",
      "metadata": {
        "id": "2NyVSNCZfChj"
      },
      "source": [
        ""
      ],
      "execution_count": null,
      "outputs": []
    },
    {
      "cell_type": "markdown",
      "metadata": {
        "id": "UcAGygezPyBH"
      },
      "source": [
        ""
      ]
    },
    {
      "cell_type": "code",
      "metadata": {
        "id": "oJXPtUeN_ePz"
      },
      "source": [
        "X= sales.drop(columns='Item_Outlet_Sales')\n",
        "y = sales['Item_Outlet_Sales']\n",
        "X_train, X_test ,y_train,y_test = train_test_split(X,y,random_state = 42)"
      ],
      "execution_count": 6,
      "outputs": []
    },
    {
      "cell_type": "markdown",
      "metadata": {
        "id": "d5Y56WssybH6"
      },
      "source": [
        "Preprocessing the data"
      ]
    },
    {
      "cell_type": "code",
      "metadata": {
        "id": "GeUNO3q9Ayx1"
      },
      "source": [
        "cat_selector = make_column_selector(dtype_include='object')\n",
        "num_selector = make_column_selector(dtype_include='number')"
      ],
      "execution_count": 7,
      "outputs": []
    },
    {
      "cell_type": "code",
      "metadata": {
        "id": "lg-MxOpXygaf"
      },
      "source": [
        "#Filling the missing values"
      ],
      "execution_count": null,
      "outputs": []
    },
    {
      "cell_type": "code",
      "metadata": {
        "id": "t8GSv-mCA31g"
      },
      "source": [
        "numeric_imputer = SimpleImputer(strategy='mean')\n",
        "categorical_imputer = SimpleImputer(strategy='most_frequent')\n",
        "\n",
        "numeric_imputer.fit(X_train[['Item_Weight']])\n",
        "X_train['Item_Weight'] = numeric_imputer.transform(X_train[['Item_Weight']])\n",
        "X_test['Item_Weight'] = numeric_imputer.transform(X_test[['Item_Weight']])\n",
        "\n",
        "\n",
        "categorical_imputer.fit(X_train[['Outlet_Size']])\n",
        "X_train['Outlet_Size'] = categorical_imputer.transform(X_train[['Outlet_Size']])\n",
        "X_test['Outlet_Size'] = categorical_imputer.transform(X_test[['Outlet_Size']])"
      ],
      "execution_count": 8,
      "outputs": []
    },
    {
      "cell_type": "code",
      "metadata": {
        "colab": {
          "base_uri": "https://localhost:8080/"
        },
        "id": "WZJpHjnbA9va",
        "outputId": "6847b35e-0b31-4373-c74f-040c42d24599"
      },
      "source": [
        "X_train.isnull().any()"
      ],
      "execution_count": 9,
      "outputs": [
        {
          "output_type": "execute_result",
          "data": {
            "text/plain": [
              "Item_Identifier              False\n",
              "Item_Weight                  False\n",
              "Item_Fat_Content             False\n",
              "Item_Visibility              False\n",
              "Item_Type                    False\n",
              "Item_MRP                     False\n",
              "Outlet_Identifier            False\n",
              "Outlet_Establishment_Year    False\n",
              "Outlet_Size                  False\n",
              "Outlet_Location_Type         False\n",
              "Outlet_Type                  False\n",
              "dtype: bool"
            ]
          },
          "metadata": {},
          "execution_count": 9
        }
      ]
    },
    {
      "cell_type": "code",
      "metadata": {
        "id": "CaidaQVhBTfS"
      },
      "source": [
        "sizes = {'Small':0,'Medium':1,'High':2}\n",
        "X_train['Outlet_Size'] = X_train['Outlet_Size'].replace(sizes)"
      ],
      "execution_count": 10,
      "outputs": []
    },
    {
      "cell_type": "code",
      "metadata": {
        "colab": {
          "base_uri": "https://localhost:8080/"
        },
        "id": "8cxhxY23HGo-",
        "outputId": "3a66b493-24b7-49be-cf8d-c902bd2bfbca"
      },
      "source": [
        "X_train['Outlet_Size'].value_counts()"
      ],
      "execution_count": 11,
      "outputs": [
        {
          "output_type": "execute_result",
          "data": {
            "text/plain": [
              "1    3915\n",
              "0    1788\n",
              "2     689\n",
              "Name: Outlet_Size, dtype: int64"
            ]
          },
          "metadata": {},
          "execution_count": 11
        }
      ]
    },
    {
      "cell_type": "code",
      "metadata": {
        "id": "9vT14DhuZ--_"
      },
      "source": [
        "X_train['Outlet_Size'] = X_train['Outlet_Size'].astype('object')\n",
        "X_test['Outlet_Size'] =X_test['Outlet_Size'].astype('object')"
      ],
      "execution_count": 12,
      "outputs": []
    },
    {
      "cell_type": "code",
      "metadata": {
        "id": "YeW5j5GfCVtm"
      },
      "source": [
        "encoder = OneHotEncoder(sparse=False,handle_unknown='ignore')\n",
        "scalaer = StandardScaler()"
      ],
      "execution_count": 13,
      "outputs": []
    },
    {
      "cell_type": "code",
      "metadata": {
        "id": "T1GYYt-4CdCN"
      },
      "source": [
        "ohe_tuple = (encoder,cat_selector)\n",
        "scalar_tuple =(scalaer,num_selector)\n",
        "column_transform = make_column_transformer(ohe_tuple,scalar_tuple,remainder = 'passthrough')"
      ],
      "execution_count": 14,
      "outputs": []
    },
    {
      "cell_type": "markdown",
      "metadata": {
        "id": "DKmHQuUV1K3c"
      },
      "source": [
        "Let's analyse how feature columns are related to outlet sales"
      ]
    },
    {
      "cell_type": "markdown",
      "metadata": {
        "id": "ooIL7-QPzT1o"
      },
      "source": [
        "Evaluating the data using Linear regression model"
      ]
    },
    {
      "cell_type": "code",
      "metadata": {
        "colab": {
          "base_uri": "https://localhost:8080/"
        },
        "id": "_se6buvyCvcJ",
        "outputId": "d5f3c8af-2423-4294-f8e6-ef45890854a0"
      },
      "source": [
        "lin_reg = LinearRegression()\n",
        "pipe = make_pipeline(column_transform,lin_reg)\n",
        "pipe.fit(X_train,y_train)"
      ],
      "execution_count": 15,
      "outputs": [
        {
          "output_type": "execute_result",
          "data": {
            "text/plain": [
              "Pipeline(steps=[('columntransformer',\n",
              "                 ColumnTransformer(remainder='passthrough',\n",
              "                                   transformers=[('onehotencoder',\n",
              "                                                  OneHotEncoder(handle_unknown='ignore',\n",
              "                                                                sparse=False),\n",
              "                                                  <sklearn.compose._column_transformer.make_column_selector object at 0x7f48f688cc90>),\n",
              "                                                 ('standardscaler',\n",
              "                                                  StandardScaler(),\n",
              "                                                  <sklearn.compose._column_transformer.make_column_selector object at 0x7f48f688cc50>)])),\n",
              "                ('linearregression', LinearRegression())])"
            ]
          },
          "metadata": {},
          "execution_count": 15
        }
      ]
    },
    {
      "cell_type": "code",
      "metadata": {
        "id": "i9_DGgFKgAuV"
      },
      "source": [
        "#Creating a function to get the scores of r2 and rmse and other evaluation metrics\n",
        "def model(y_true, y_pred):\n",
        "\n",
        "  mae = mean_absolute_error(y_true, y_pred)\n",
        "  mse = mean_squared_error(y_true, y_pred)\n",
        "  rmse = np.sqrt(mean_squared_error(y_true, y_pred))\n",
        "  r2 = r2_score(y_true, y_pred)\n",
        "\n",
        "  print(f'scores: MAE: {mae}, \\nMSE: {mse}, \\nRMSE: {rmse}, \\\n",
        "  \\nR2: {r2}')"
      ],
      "execution_count": 39,
      "outputs": []
    },
    {
      "cell_type": "markdown",
      "metadata": {
        "id": "Xcx2cQBt0B2t"
      },
      "source": [
        "Model evalution"
      ]
    },
    {
      "cell_type": "code",
      "metadata": {
        "colab": {
          "base_uri": "https://localhost:8080/"
        },
        "id": "T7U5zV7y2sQK",
        "outputId": "c3538e82-0747-432c-8283-cad3bd4fc93b"
      },
      "source": [
        "print('Train Scores')\n",
        "model(y_train,pipe.predict(X_train))\n",
        "print('Testing Scores')\n",
        "model(y_test, pipe.predict(X_test))"
      ],
      "execution_count": 40,
      "outputs": [
        {
          "output_type": "stream",
          "name": "stdout",
          "text": [
            "Train Scores\n",
            "scores: MAE: 739.5459094493116, \n",
            "MSE: 975956.8800610695, \n",
            "RMSE: 987.9052991360404,   \n",
            "R2: 0.6702241974534979\n",
            "Testing Scores\n",
            "scores: MAE: 4399928590710320.0, \n",
            "MSE: 3.186132127612579e+31, \n",
            "RMSE: 5644583357177551.0,   \n",
            "R2: -1.1548236158716282e+25\n"
          ]
        }
      ]
    },
    {
      "cell_type": "markdown",
      "metadata": {
        "id": "7qKEyHsaKnTi"
      },
      "source": [
        "Here we can see that there is huge difference between R2 scores of test and train score data, so we can say that the model has High Bias and Variance "
      ]
    },
    {
      "cell_type": "markdown",
      "metadata": {
        "id": "QSmzG_r1LJj6"
      },
      "source": [
        "Let's analyse the model using baseline model"
      ]
    },
    {
      "cell_type": "code",
      "metadata": {
        "colab": {
          "base_uri": "https://localhost:8080/"
        },
        "id": "vA--mJ9y3W6X",
        "outputId": "ed6dec7d-4b28-4703-c964-4a1a2883daf5"
      },
      "source": [
        "\n",
        "dummy = DummyRegressor(strategy='mean')\n",
        "dummy_pipe = make_pipeline(column_transform, dummy)\n",
        "dummy_pipe.fit(X_train, y_train)\n",
        "print('Training Scores')\n",
        "model(y_train, dummy_pipe.predict(X_train))\n",
        "\n",
        "print('\\n')\n",
        "\n",
        "print('Testing Scores')\n",
        "model(y_test, dummy_pipe.predict(X_test))"
      ],
      "execution_count": 64,
      "outputs": [
        {
          "output_type": "stream",
          "name": "stdout",
          "text": [
            "Training Scores\n",
            "scores: MAE: 1360.2184410159132, \n",
            "MSE: 2959455.7045265585, \n",
            "RMSE: 1720.306863477141,   \n",
            "R2: 0.0\n",
            "\n",
            "\n",
            "Testing Scores\n",
            "scores: MAE: 1326.121044678208, \n",
            "MSE: 2772144.4627103633, \n",
            "RMSE: 1664.9758144520788,   \n",
            "R2: -0.004772483978719766\n"
          ]
        }
      ]
    },
    {
      "cell_type": "markdown",
      "metadata": {
        "id": "Xmhxw401Lynx"
      },
      "source": [
        "I'm going to regularize the model usinf Knnregressor and will tune the model"
      ]
    },
    {
      "cell_type": "code",
      "metadata": {
        "colab": {
          "base_uri": "https://localhost:8080/"
        },
        "id": "hkeGRx3v4tyU",
        "outputId": "92b2a828-b17f-4374-a714-5ab5a1888d15"
      },
      "source": [
        "bias_knn = KNeighborsRegressor(n_neighbors=1)\n",
        "\n",
        "bias_knn_pipe = make_pipeline(column_transform, bias_knn)\n",
        "\n",
        "bias_knn_pipe.fit(X_train, y_train)\n",
        "\n",
        "print('Training Scores')\n",
        "model(y_train, bias_knn_pipe.predict(X_train))\n",
        "\n",
        "print('\\n')\n",
        "\n",
        "print('Testing Scores')\n",
        "model(y_test, bias_knn_pipe.predict(X_test))"
      ],
      "execution_count": 20,
      "outputs": [
        {
          "output_type": "stream",
          "name": "stdout",
          "text": [
            "Training Scores\n",
            "scores: MAE: 0.0, \n",
            "MSE: 0.0, \n",
            "RMSE: 0.0,   \n",
            "R2: 1.0\n",
            "\n",
            "\n",
            "Testing Scores\n",
            "scores: MAE: 1036.1685120600657, \n",
            "MSE: 2173390.2412146926, \n",
            "RMSE: 1474.2422600151892,   \n",
            "R2: 0.2122478677805626\n"
          ]
        }
      ]
    },
    {
      "cell_type": "markdown",
      "metadata": {
        "id": "Y_VPiA5mMxH9"
      },
      "source": [
        "Finding the best value for n_neighbors"
      ]
    },
    {
      "cell_type": "code",
      "metadata": {
        "id": "ay16jOvV5ZOC"
      },
      "source": [
        "ks = range(1, 20)\n",
        "scores = pd.DataFrame(columns=['Train', 'Test'], index=ks)\n",
        "for k in ks:\n",
        "\n",
        "  knn = KNeighborsRegressor(n_neighbors=k)\n",
        "  knn_pipe = make_pipeline(column_transform, knn)\n",
        "  knn_pipe.fit(X_train, y_train)\n",
        "\n",
        "  train_pred = knn_pipe.predict(X_train)\n",
        "  test_pred = knn_pipe.predict(X_test)\n",
        "\n",
        "  train_rmse = np.sqrt(mean_squared_error(y_train, train_pred)) \n",
        "  test_rmse = np.sqrt(mean_squared_error(y_test, test_pred))\n",
        "  \n",
        "  scores.loc[k, 'Train'] = train_rmse\n",
        "  scores.loc[k, 'Test'] = test_rmse"
      ],
      "execution_count": 65,
      "outputs": []
    },
    {
      "cell_type": "code",
      "metadata": {
        "colab": {
          "base_uri": "https://localhost:8080/",
          "height": 279
        },
        "id": "dPYES8Wv6QYT",
        "outputId": "3d72b0f9-640c-452f-8f62-a857cc4f98fe"
      },
      "source": [
        "plt.plot(ks, scores['Train'], label='train')\n",
        "plt.plot(ks, scores['Test'], label='test')\n",
        "plt.ylabel('RMSE')\n",
        "plt.xlabel('K-Neighbors')\n",
        "plt.legend()\n",
        "plt.show()"
      ],
      "execution_count": 22,
      "outputs": [
        {
          "output_type": "display_data",
          "data": {
            "image/png": "[encoded data removed]",
            "text/plain": [
              "<Figure size 432x288 with 1 Axes>"
            ]
          },
          "metadata": {
            "needs_background": "light"
          }
        }
      ]
    },
    {
      "cell_type": "code",
      "metadata": {
        "colab": {
          "base_uri": "https://localhost:8080/"
        },
        "id": "-FqYyHy36gN_",
        "outputId": "ae7ed095-764f-41f1-c6fb-505339a75331"
      },
      "source": [
        "best_k = scores.sort_values(by='Test').index[0]\n",
        "best_k"
      ],
      "execution_count": 23,
      "outputs": [
        {
          "output_type": "execute_result",
          "data": {
            "text/plain": [
              "19"
            ]
          },
          "metadata": {},
          "execution_count": 23
        }
      ]
    },
    {
      "cell_type": "code",
      "metadata": {
        "colab": {
          "base_uri": "https://localhost:8080/"
        },
        "id": "TK6ZjZpR612x",
        "outputId": "aabf6a23-9b2c-40f4-cd06-ba2f4a552bd5"
      },
      "source": [
        "best_knn = KNeighborsRegressor(n_neighbors=best_k)\n",
        "best_knn_pipe = make_pipeline(column_transform, best_knn)\n",
        "best_knn_pipe.fit(X_train, y_train)\n",
        "\n",
        "#evaluate the final model\n",
        "print(f'Training Scores')\n",
        "model(y_train, best_knn_pipe.predict(X_train))\n",
        "\n",
        "print('\\n')\n",
        "\n",
        "print(f'Testing Scores')\n",
        "model(y_test, best_knn_pipe.predict(X_test))\n",
        "\n",
        "print('\\n')"
      ],
      "execution_count": 66,
      "outputs": [
        {
          "output_type": "stream",
          "name": "stdout",
          "text": [
            "Training Scores\n",
            "scores: MAE: 771.9520539094922, \n",
            "MSE: 1161051.0387542255, \n",
            "RMSE: 1077.5207834442106,   \n",
            "R2: 0.6076808863946266\n",
            "\n",
            "\n",
            "Testing Scores\n",
            "scores: MAE: 767.5310794684976, \n",
            "MSE: 1189002.6418443376, \n",
            "RMSE: 1090.4139772785095,   \n",
            "R2: 0.5690422508734834\n",
            "\n",
            "\n"
          ]
        }
      ]
    },
    {
      "cell_type": "markdown",
      "metadata": {
        "id": "YDUaOzvqNNnv"
      },
      "source": [
        "We can see R2 test score has become closer after tuning the data but still there is difference so we can say that still there is "
      ]
    },
    {
      "cell_type": "markdown",
      "metadata": {
        "id": "eIrt6bS23TBP"
      },
      "source": [
        "Plotting the values of Test scores "
      ]
    },
    {
      "cell_type": "code",
      "metadata": {
        "colab": {
          "base_uri": "https://localhost:8080/",
          "height": 304
        },
        "id": "nY6Zox08VI3u",
        "outputId": "7e99d6b4-8c0c-44eb-d191-687fc9f1d42a"
      },
      "source": [
        "pipe6 = best_knn_pipe.predict(X_test)\n",
        "plt.scatter(pipe6,y_test)\n",
        "plt.savefig('fig7.png', dpi = 300)\n",
        "plt.xlabel('features')\n",
        "plt.ylabel('prediction')"
      ],
      "execution_count": 137,
      "outputs": [
        {
          "output_type": "execute_result",
          "data": {
            "text/plain": [
              "Text(5.5, 0.5, 'prediction')"
            ]
          },
          "metadata": {},
          "execution_count": 137
        },
        {
          "output_type": "display_data",
          "data": {
            "image/png": "[encoded data removed]",
            "text/plain": [
              "<Figure size 432x288 with 1 Axes>"
            ]
          },
          "metadata": {}
        }
      ]
    },
    {
      "cell_type": "markdown",
      "metadata": {
        "id": "yqtSR6cGNoil"
      },
      "source": [
        "Let's evalute the model using Simpleregression Tree model"
      ]
    },
    {
      "cell_type": "code",
      "metadata": {
        "id": "46L2LTMC_iEs"
      },
      "source": [
        "from sklearn.tree import DecisionTreeRegressor\n",
        "from sklearn.tree import DecisionTreeClassifier"
      ],
      "execution_count": 25,
      "outputs": []
    },
    {
      "cell_type": "code",
      "metadata": {
        "id": "Wij2BtDm7LBx"
      },
      "source": [
        "tree_model = DecisionTreeRegressor(random_state=42)"
      ],
      "execution_count": 26,
      "outputs": []
    },
    {
      "cell_type": "code",
      "metadata": {
        "id": "u_IkIylzEFMy"
      },
      "source": [
        "column_transform.fit(X_train)\n",
        "\n",
        "X_train_processed = column_transform.transform(X_train)\n",
        "X_test_processed = column_transform.transform(X_test)\n",
        "\n"
      ],
      "execution_count": 27,
      "outputs": []
    },
    {
      "cell_type": "code",
      "metadata": {
        "colab": {
          "base_uri": "https://localhost:8080/"
        },
        "id": "bfNl-aIv_wvB",
        "outputId": "8332da96-8dd1-4ea6-ec21-50859d708f99"
      },
      "source": [
        "tree_model.fit(X_train_processed,y_train)\n"
      ],
      "execution_count": 28,
      "outputs": [
        {
          "output_type": "execute_result",
          "data": {
            "text/plain": [
              "DecisionTreeRegressor(random_state=42)"
            ]
          },
          "metadata": {},
          "execution_count": 28
        }
      ]
    },
    {
      "cell_type": "code",
      "metadata": {
        "id": "jw-7vn6HB7OJ"
      },
      "source": [
        "train_preds = tree_model.predict(X_train_processed)\n",
        "test_preds = tree_model.predict(X_test_processed)\n"
      ],
      "execution_count": 29,
      "outputs": []
    },
    {
      "cell_type": "code",
      "metadata": {
        "colab": {
          "base_uri": "https://localhost:8080/"
        },
        "id": "AYiA-hvGCJj3",
        "outputId": "93440a98-c3a6-43a6-c9a8-6f931a9fc0f1"
      },
      "source": [
        "# evaluate the model\n",
        "train_score = tree_model.score(X_train_processed, y_train)\n",
        "test_score = tree_model.score(X_test_processed, y_test)\n",
        "print(train_score)\n",
        "print(test_score)\n",
        "print(f'Training Scores')\n",
        "model(y_train, tree_model.predict(X_train_processed))\n",
        "\n",
        "print('\\n')\n",
        "\n",
        "print(f'Testing Scores')\n",
        "model(y_test, tree_model.predict(X_test_processed))\n",
        "\n",
        "print('\\n')\n",
        "\n"
      ],
      "execution_count": 30,
      "outputs": [
        {
          "output_type": "stream",
          "name": "stdout",
          "text": [
            "1.0\n",
            "0.24056019223457958\n",
            "Training Scores\n",
            "scores: MAE: 1.2005415435245748e-16, \n",
            "MSE: 2.4643264323299693e-29, \n",
            "RMSE: 4.96419825584149e-15,   \n",
            "R2: 1.0\n",
            "\n",
            "\n",
            "Testing Scores\n",
            "scores: MAE: 984.5860397935243, \n",
            "MSE: 2095277.1810810468, \n",
            "RMSE: 1447.5072300617524,   \n",
            "R2: 0.24056019223457958\n",
            "\n",
            "\n"
          ]
        }
      ]
    },
    {
      "cell_type": "markdown",
      "metadata": {
        "id": "ZIYVI962N_38"
      },
      "source": [
        "When we analysing the metrics in DecisionTreeRegressor we can see there see Highvariance(overfit) of the model, so let's tune the model"
      ]
    },
    {
      "cell_type": "code",
      "metadata": {
        "id": "lFCx4-qqVG6G"
      },
      "source": [
        ""
      ],
      "execution_count": null,
      "outputs": []
    },
    {
      "cell_type": "code",
      "metadata": {
        "colab": {
          "base_uri": "https://localhost:8080/"
        },
        "id": "hdhEX1gXCUhe",
        "outputId": "ad39d29b-484a-461f-9fff-d0a9c768d648"
      },
      "source": [
        "tree_model.get_depth()"
      ],
      "execution_count": 32,
      "outputs": [
        {
          "output_type": "execute_result",
          "data": {
            "text/plain": [
              "60"
            ]
          },
          "metadata": {},
          "execution_count": 32
        }
      ]
    },
    {
      "cell_type": "code",
      "metadata": {
        "id": "oqaeX5b2FFDf"
      },
      "source": [
        "\n",
        "max_depth_range = list(range(2, 60))\n",
        "\n",
        "r2 = []\n",
        "for depth in max_depth_range:\n",
        "    dec_tree = DecisionTreeRegressor(max_depth = depth, \n",
        "                             random_state = 42)\n",
        "    dec_tree.fit(X_train_processed, y_train)\n",
        "    score = dec_tree.score(X_test_processed, y_test)\n",
        "    r2.append(score)\n"
      ],
      "execution_count": 67,
      "outputs": []
    },
    {
      "cell_type": "code",
      "metadata": {
        "colab": {
          "base_uri": "https://localhost:8080/",
          "height": 280
        },
        "id": "axg220jSF098",
        "outputId": "0f040e9a-989b-4150-d023-4ad5e4e33189"
      },
      "source": [
        "import matplotlib.pyplot as plt\n",
        "plt.plot(max_depth_range, r2)\n",
        "plt.xlabel('max_depth')\n",
        "plt.ylabel('R2');\n"
      ],
      "execution_count": 34,
      "outputs": [
        {
          "output_type": "display_data",
          "data": {
            "image/png": "[encoded data removed]",
            "text/plain": [
              "<Figure size 432x288 with 1 Axes>"
            ]
          },
          "metadata": {
            "needs_background": "light"
          }
        }
      ]
    },
    {
      "cell_type": "markdown",
      "metadata": {
        "id": "-irCGzqyOqMk"
      },
      "source": [
        "Let's run max_depth as 5"
      ]
    },
    {
      "cell_type": "code",
      "metadata": {
        "colab": {
          "base_uri": "https://localhost:8080/"
        },
        "id": "Mo-Jgw08F4Oa",
        "outputId": "3cc73825-f5a4-4efb-dbd1-7b7bd7632ca8"
      },
      "source": [
        "# Let's run the model with our optimized value for max_depth\n",
        "dec_tree_5 = DecisionTreeRegressor(max_depth = 5, random_state = 42)\n",
        "dec_tree_5.fit(X_train_processed, y_train)\n"
      ],
      "execution_count": 78,
      "outputs": [
        {
          "output_type": "execute_result",
          "data": {
            "text/plain": [
              "DecisionTreeRegressor(max_depth=5, random_state=42)"
            ]
          },
          "metadata": {},
          "execution_count": 78
        }
      ]
    },
    {
      "cell_type": "code",
      "metadata": {
        "colab": {
          "base_uri": "https://localhost:8080/"
        },
        "id": "mPVK92sbGMZT",
        "outputId": "86a99ab1-be0f-4938-a449-b2dc7c63ce2c"
      },
      "source": [
        "print(f'Training Scores')\n",
        "model(y_train, dec_tree_5.predict(X_train_processed))\n",
        "\n",
        "print('\\n')\n",
        "\n",
        "print(f'Testing Scores')\n",
        "model(y_test, dec_tree_5.predict(X_test_processed))\n",
        "\n",
        "print('\\n')"
      ],
      "execution_count": 79,
      "outputs": [
        {
          "output_type": "stream",
          "name": "stdout",
          "text": [
            "Training Scores\n",
            "scores: MAE: 761.9784955008363, \n",
            "MSE: 1171332.784431318, \n",
            "RMSE: 1082.281287111312,   \n",
            "R2: 0.6042066848171654\n",
            "\n",
            "\n",
            "Testing Scores\n",
            "scores: MAE: 736.8796499354125, \n",
            "MSE: 1114471.1152767404, \n",
            "RMSE: 1055.6851402178304,   \n",
            "R2: 0.5960564372160062\n",
            "\n",
            "\n"
          ]
        }
      ]
    },
    {
      "cell_type": "markdown",
      "metadata": {
        "id": "_h72IaxyO_-T"
      },
      "source": [
        "We can see that test and train score become closer so these model is compartively good fit than linear regression and Knnregressor "
      ]
    },
    {
      "cell_type": "markdown",
      "metadata": {
        "id": "koh9FCSDT_8w"
      },
      "source": [
        "pipe1 = pipe"
      ]
    },
    {
      "cell_type": "code",
      "metadata": {
        "colab": {
          "base_uri": "https://localhost:8080/",
          "height": 304
        },
        "id": "Kh8wFOCYUCZ-",
        "outputId": "6bed6348-27ed-409d-9fcd-57c460c4a869"
      },
      "source": [
        "pipe5 = dec_tree_5.predict(X_test_processed)\n",
        "plt.scatter(pipe5,y_test)\n",
        "plt.savefig('fig7.png', dpi = 300)\n",
        "plt.xlabel('features')\n",
        "plt.ylabel('prediction')"
      ],
      "execution_count": 136,
      "outputs": [
        {
          "output_type": "execute_result",
          "data": {
            "text/plain": [
              "Text(5.5, 0.5, 'prediction')"
            ]
          },
          "metadata": {},
          "execution_count": 136
        },
        {
          "output_type": "display_data",
          "data": {
            "image/png": "[encoded data removed]",
            "text/plain": [
              "<Figure size 432x288 with 1 Axes>"
            ]
          },
          "metadata": {}
        }
      ]
    }
  ]
}