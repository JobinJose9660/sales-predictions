{
  "nbformat": 4,
  "nbformat_minor": 0,
  "metadata": {
    "colab": {
      "name": "machine learing",
      "provenance": [],
      "authorship_tag": "ABX9TyOhnH4OtL41M5W5qFrTZzQH",
      "include_colab_link": true
    },
    "kernelspec": {
      "name": "python3",
      "display_name": "Python 3"
    },
    "language_info": {
      "name": "python"
    }
  },
  "cells": [
    {
      "cell_type": "markdown",
      "metadata": {
        "id": "view-in-github",
        "colab_type": "text"
      },
      "source": [
        "<a href=\"https://colab.research.google.com/github/JobinJose9660/sales-predictions/blob/main/machine_learing.ipynb\" target=\"_parent\"><img src=\"https://colab.research.google.com/assets/colab-badge.svg\" alt=\"Open In Colab\"/></a>"
      ]
    },
    {
      "cell_type": "code",
      "metadata": {
        "id": "ksIvyluB_AZc"
      },
      "source": [
        "import pandas as pd\n",
        "import numpy as np\n",
        "from sklearn.model_selection import train_test_split\n",
        "from sklearn.compose import make_column_selector,make_column_transformer\n",
        "from sklearn.linear_model import LinearRegression\n",
        "from sklearn.preprocessing import OneHotEncoder,StandardScaler\n",
        "from sklearn.impute import SimpleImputer\n",
        "from sklearn.pipeline import make_pipeline"
      ],
      "execution_count": 1,
      "outputs": []
    },
    {
      "cell_type": "code",
      "metadata": {
        "id": "mB_xX4le_Gub"
      },
      "source": [
        "filename  = '/content/sales_predictions(5).csv'\n",
        "sales  = pd.read_csv(filename)"
      ],
      "execution_count": 2,
      "outputs": []
    },
    {
      "cell_type": "code",
      "metadata": {
        "colab": {
          "base_uri": "https://localhost:8080/"
        },
        "id": "MK0E9rvL_MDa",
        "outputId": "fea8a3a1-bfdc-4270-b2ae-abc1cd91245b"
      },
      "source": [
        "sales['Item_Fat_Content'].value_counts()"
      ],
      "execution_count": 3,
      "outputs": [
        {
          "output_type": "execute_result",
          "data": {
            "text/plain": [
              "Low Fat    5089\n",
              "Regular    2889\n",
              "LF          316\n",
              "reg         117\n",
              "low fat     112\n",
              "Name: Item_Fat_Content, dtype: int64"
            ]
          },
          "metadata": {},
          "execution_count": 3
        }
      ]
    },
    {
      "cell_type": "code",
      "metadata": {
        "id": "tdEnxRLp_P-5"
      },
      "source": [
        "sales.loc[sales['Item_Fat_Content'] == 'LF', 'Item_Fat_Content'] = 'Low Fat'\n",
        "\n",
        "sales.loc[sales['Item_Fat_Content'] == 'reg', 'Item_Fat_Content'] = 'Regular'\n",
        "\n",
        "sales.loc[sales['Item_Fat_Content'] == 'low fat', 'Item_Fat_Content'] = 'Low Fat'\n",
        "\n",
        "sales.loc[sales['Item_Fat_Content'] == 'LF', 'Item_Fat_Content'] = 'Low Fat'\n",
        "\n",
        "sales.loc[sales['Item_Fat_Content'] == 'reg', 'Item_Fat_Content'] = 'Regular'\n",
        "\n",
        "sales.loc[sales['Item_Fat_Content'] == 'low fat', 'Item_Fat_Content'] = 'Low Fat'"
      ],
      "execution_count": 4,
      "outputs": []
    },
    {
      "cell_type": "code",
      "metadata": {
        "id": "oJXPtUeN_ePz"
      },
      "source": [
        "X= sales.drop(columns='Item_Outlet_Sales')\n",
        "y = sales['Item_Outlet_Sales']\n",
        "X_train, X_test ,y_train,y_test = train_test_split(X,y,random_state = 42)"
      ],
      "execution_count": 5,
      "outputs": []
    },
    {
      "cell_type": "code",
      "metadata": {
        "id": "GeUNO3q9Ayx1"
      },
      "source": [
        "cat_selector = make_column_selector(dtype_include='object')\n",
        "num_selector = make_column_selector(dtype_include='number')"
      ],
      "execution_count": 6,
      "outputs": []
    },
    {
      "cell_type": "code",
      "metadata": {
        "id": "t8GSv-mCA31g"
      },
      "source": [
        "numeric_imputer = SimpleImputer(strategy='mean')\n",
        "categorical_imputer = SimpleImputer(strategy='most_frequent')\n",
        "\n",
        "numeric_imputer.fit(X_train[['Item_Weight']])\n",
        "X_train['Item_Weight'] = numeric_imputer.transform(X_train[['Item_Weight']])\n",
        "X_test['Item_Weight'] = numeric_imputer.transform(X_test[['Item_Weight']])\n",
        "\n",
        "\n",
        "categorical_imputer.fit(X_train[['Outlet_Size']])\n",
        "X_train['Outlet_Size'] = categorical_imputer.transform(X_train[['Outlet_Size']])\n",
        "X_test['Outlet_Size'] = categorical_imputer.transform(X_test[['Outlet_Size']])"
      ],
      "execution_count": 7,
      "outputs": []
    },
    {
      "cell_type": "code",
      "metadata": {
        "colab": {
          "base_uri": "https://localhost:8080/"
        },
        "id": "WZJpHjnbA9va",
        "outputId": "f9628eb8-6042-4395-a940-0c85a3c4fce0"
      },
      "source": [
        "X_train.isnull().any()"
      ],
      "execution_count": 8,
      "outputs": [
        {
          "output_type": "execute_result",
          "data": {
            "text/plain": [
              "Item_Identifier              False\n",
              "Item_Weight                  False\n",
              "Item_Fat_Content             False\n",
              "Item_Visibility              False\n",
              "Item_Type                    False\n",
              "Item_MRP                     False\n",
              "Outlet_Identifier            False\n",
              "Outlet_Establishment_Year    False\n",
              "Outlet_Size                  False\n",
              "Outlet_Location_Type         False\n",
              "Outlet_Type                  False\n",
              "dtype: bool"
            ]
          },
          "metadata": {},
          "execution_count": 8
        }
      ]
    },
    {
      "cell_type": "code",
      "metadata": {
        "id": "CaidaQVhBTfS"
      },
      "source": [
        "sizes = {'Small':0,'Medium':1,'High':2}\n",
        "X_train['Outlet_Size'] = X_train['Outlet_Size'].replace(sizes)"
      ],
      "execution_count": 9,
      "outputs": []
    },
    {
      "cell_type": "code",
      "metadata": {
        "colab": {
          "base_uri": "https://localhost:8080/"
        },
        "id": "8cxhxY23HGo-",
        "outputId": "3cd114f5-6072-4316-dedb-818bc4042875"
      },
      "source": [
        "X_train['Outlet_Size'].value_counts()"
      ],
      "execution_count": 10,
      "outputs": [
        {
          "output_type": "execute_result",
          "data": {
            "text/plain": [
              "1    3915\n",
              "0    1788\n",
              "2     689\n",
              "Name: Outlet_Size, dtype: int64"
            ]
          },
          "metadata": {},
          "execution_count": 10
        }
      ]
    },
    {
      "cell_type": "code",
      "metadata": {
        "id": "9vT14DhuZ--_"
      },
      "source": [
        "X_train['Outlet_Size'] = X_train['Outlet_Size'].astype('object')\n",
        "X_test['Outlet_Size'] =X_test['Outlet_Size'].astype('object')"
      ],
      "execution_count": 11,
      "outputs": []
    },
    {
      "cell_type": "code",
      "metadata": {
        "id": "YeW5j5GfCVtm"
      },
      "source": [
        "encoder = OneHotEncoder(sparse=False,handle_unknown='ignore')\n",
        "scalaer = StandardScaler()"
      ],
      "execution_count": 12,
      "outputs": []
    },
    {
      "cell_type": "code",
      "metadata": {
        "id": "T1GYYt-4CdCN"
      },
      "source": [
        "ohe_tuple = (encoder,cat_selector)\n",
        "scalar_tuple =(scalaer,num_selector)\n",
        "column_transform = make_column_transformer(ohe_tuple,scalar_tuple,remainder = 'passthrough')"
      ],
      "execution_count": 13,
      "outputs": []
    },
    {
      "cell_type": "code",
      "metadata": {
        "colab": {
          "base_uri": "https://localhost:8080/"
        },
        "id": "_se6buvyCvcJ",
        "outputId": "3cde6b2c-55a6-4110-ed54-883ca955f702"
      },
      "source": [
        "lin_reg = LinearRegression()\n",
        "pipe = make_pipeline(column_transform,lin_reg)\n",
        "pipe.fit(X_train,y_train)"
      ],
      "execution_count": 14,
      "outputs": [
        {
          "output_type": "execute_result",
          "data": {
            "text/plain": [
              "Pipeline(steps=[('columntransformer',\n",
              "                 ColumnTransformer(remainder='passthrough',\n",
              "                                   transformers=[('onehotencoder',\n",
              "                                                  OneHotEncoder(handle_unknown='ignore',\n",
              "                                                                sparse=False),\n",
              "                                                  <sklearn.compose._column_transformer.make_column_selector object at 0x7fb38ae8a090>),\n",
              "                                                 ('standardscaler',\n",
              "                                                  StandardScaler(),\n",
              "                                                  <sklearn.compose._column_transformer.make_column_selector object at 0x7fb38ae8a050>)])),\n",
              "                ('linearregression', LinearRegression())])"
            ]
          },
          "metadata": {},
          "execution_count": 14
        }
      ]
    },
    {
      "cell_type": "code",
      "metadata": {
        "colab": {
          "base_uri": "https://localhost:8080/"
        },
        "id": "apLPFx6fN1R8",
        "outputId": "58112c2d-a448-420c-85d9-3313fbddb9f2"
      },
      "source": [
        "from sklearn.metrics import r2_score\n",
        "print(f'Train R2: {r2_score(y_train, pipe.predict(X_train))}')\n",
        "print(f'Test R2: {r2_score(y_test, pipe.predict(X_test))}')"
      ],
      "execution_count": 15,
      "outputs": [
        {
          "output_type": "stream",
          "name": "stdout",
          "text": [
            "Train R2: 0.6702241974534979\n",
            "Test R2: -1.1548236158716282e+25\n"
          ]
        }
      ]
    }
  ]
}